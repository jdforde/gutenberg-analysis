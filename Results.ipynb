{
 "cells": [
  {
   "cell_type": "markdown",
   "metadata": {},
   "source": [
    "## An Analysis of Data from Project Gutenburg\n",
    "#### Jakob Forde"
   ]
  }
 ],
 "metadata": {
  "interpreter": {
   "hash": "5bf967379f8121c488e9f30d5f742e7fb8a2de3f1712bee601d5fa64af3cce5a"
  },
  "kernelspec": {
   "display_name": "Python 3.9.1 64-bit",
   "language": "python",
   "name": "python3"
  },
  "language_info": {
   "name": "python",
   "version": "3.9.1"
  },
  "orig_nbformat": 4
 },
 "nbformat": 4,
 "nbformat_minor": 2
}
